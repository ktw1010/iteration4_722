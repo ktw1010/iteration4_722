{
 "cells": [
  {
   "cell_type": "markdown",
   "id": "87b7ce22-d791-46cc-9c74-eed7ce7d5814",
   "metadata": {},
   "source": [
    "#### Load Libraries and Data"
   ]
  },
  {
   "cell_type": "code",
   "execution_count": null,
   "id": "52a9d8d1-7993-4619-b2a9-7a74f1f2238a",
   "metadata": {},
   "outputs": [],
   "source": [
    "import findspark\n",
    "findspark.init()\n",
    "import pyspark\n",
    "from pyspark.sql import SparkSession\n",
    "spark = SparkSession.builder.appName('iteration4').getOrCreate()"
   ]
  },
  {
   "cell_type": "code",
   "execution_count": 2,
   "id": "6a954970-3e82-4230-af82-226e46800016",
   "metadata": {},
   "outputs": [],
   "source": [
    "df = spark.read.csv('Absenteeism_at_work.csv', sep = ';', inferSchema=True, header = True)"
   ]
  },
  {
   "cell_type": "code",
   "execution_count": null,
   "id": "c26311d4-4a71-4be2-8f4c-38b971a6b321",
   "metadata": {},
   "outputs": [],
   "source": [
    "df.show()"
   ]
  },
  {
   "cell_type": "code",
   "execution_count": null,
   "id": "b56c8ac1-238d-4805-bb6f-c074a8254698",
   "metadata": {},
   "outputs": [],
   "source": [
    "df.head(5)"
   ]
  },
  {
   "cell_type": "markdown",
   "id": "c6fe16f3-a94b-455e-b487-9e843988a9e4",
   "metadata": {},
   "source": [
    "#### Data Description/Exploration/Cleaning"
   ]
  },
  {
   "cell_type": "code",
   "execution_count": null,
   "id": "b9ab64cc-0601-41eb-9f12-96a1f8c2d4ce",
   "metadata": {},
   "outputs": [],
   "source": [
    "print((df.count(), len(df.columns)))\n",
    "df.printSchema()"
   ]
  },
  {
   "cell_type": "code",
   "execution_count": null,
   "id": "fb628da0-2079-4796-bd24-77091d280ca2",
   "metadata": {},
   "outputs": [],
   "source": [
    "df.select('Reason for absence', 'Month of absence', 'Day of the week', \n",
    "          'Seasons', 'Transportation expense', 'Distance from Residence to Work').describe().show()\n",
    "df.select('Service time', 'Age', 'Work load Average/day ', 'Hit target',\n",
    "          'Disciplinary failure', 'Education').describe().show()\n",
    "df.select('Son', 'Social drinker', 'Social smoker', 'Pet',\n",
    "          'Body mass index', 'Absenteeism time in hours').describe().show()"
   ]
  },
  {
   "cell_type": "code",
   "execution_count": 7,
   "id": "43be429c-d7c2-4f97-8b75-fc5c4e2afe81",
   "metadata": {},
   "outputs": [],
   "source": [
    "data = df.toPandas()"
   ]
  },
  {
   "cell_type": "code",
   "execution_count": null,
   "id": "d6974010-2ade-4901-93b5-909460b1e308",
   "metadata": {},
   "outputs": [],
   "source": [
    "data['Absenteeism time in hours'].plot.hist()"
   ]
  },
  {
   "cell_type": "code",
   "execution_count": 9,
   "id": "ddd87fc0-6322-492a-8fc3-bed6862a129f",
   "metadata": {},
   "outputs": [
    {
     "name": "stderr",
     "output_type": "stream",
     "text": [
      "24/05/23 20:32:19 WARN InstanceBuilder: Failed to load implementation from:dev.ludovic.netlib.blas.JNIBLAS\n",
      "                                                                                \r"
     ]
    }
   ],
   "source": [
    "from pyspark.ml.stat import Correlation\n",
    "from pyspark.ml.feature import VectorAssembler\n",
    "vector_col = 'corr_features'\n",
    "assembler = VectorAssembler(inputCols=df.columns, outputCol=vector_col)\n",
    "df_vector = assembler.transform(df).select(vector_col)\n",
    "corr_matrix = Correlation.corr(df_vector, vector_col)\n",
    "cm = corr_matrix.collect()[0]['pearson({})'.format(vector_col)].values"
   ]
  },
  {
   "cell_type": "code",
   "execution_count": null,
   "id": "6e9eacd3-d914-4d2a-ac3a-e32c27753b60",
   "metadata": {},
   "outputs": [],
   "source": [
    "corr = []\n",
    "for i in range(len(cm)): \n",
    "    if i%21 == 20:\n",
    "        corr.append(cm[i])\n",
    "corr"
   ]
  },
  {
   "cell_type": "code",
   "execution_count": null,
   "id": "c9bc10cb-bc6e-4c90-a8e4-e4b22e4eac5c",
   "metadata": {},
   "outputs": [],
   "source": [
    "df.groupby(\"Reason for absence\").count().show()"
   ]
  },
  {
   "cell_type": "code",
   "execution_count": null,
   "id": "eb790026-f753-4252-86d6-a4ac2268bd73",
   "metadata": {},
   "outputs": [],
   "source": [
    "df.tail(5)"
   ]
  },
  {
   "cell_type": "code",
   "execution_count": null,
   "id": "c4be30f9-17bb-4bc2-bb63-fb9e1914ba04",
   "metadata": {
    "scrolled": true
   },
   "outputs": [],
   "source": [
    "from pyspark.sql.functions import avg,stddev\n",
    "dict = {}\n",
    "dict1 = {}\n",
    "for col in df.columns:\n",
    "    dev = df.select(stddev(col)).collect()[0][0]\n",
    "    m = df.select(avg(col)).collect()[0][0]\n",
    "    upper_limit = m + (3*dev)\n",
    "    lower_limit = m - (3*dev)\n",
    "    dataframe = df.filter((df[col]<lower_limit) | (df[col]>upper_limit))\n",
    "    dict[col] = dataframe.count()\n",
    "    dict1[col] = dataframe\n",
    "dict"
   ]
  },
  {
   "cell_type": "code",
   "execution_count": null,
   "id": "2f12be84-f940-4720-94d0-2ad22a489a61",
   "metadata": {
    "scrolled": true
   },
   "outputs": [],
   "source": [
    "pet = dict1['Pet']\n",
    "pet.select(pet['Pet']).show()"
   ]
  },
  {
   "cell_type": "code",
   "execution_count": null,
   "id": "5a3149c3-d860-4059-adbf-2932e060d65c",
   "metadata": {},
   "outputs": [],
   "source": [
    "from pyspark.sql.types import (StructField,StringType,IntegerType,BooleanType,DoubleType,StructType)\n",
    "data_schema = [StructField('ID',StringType(),True),\n",
    "              StructField('Reason for absence',StringType(),True),\n",
    "              StructField('Month of absence',StringType(),True),\n",
    "              StructField('Day of the week',StringType(),True),\n",
    "              StructField('Seasons',StringType(),True),\n",
    "              StructField('Transportation expense',IntegerType(),True),\n",
    "              StructField('Distance from Residence to Work',IntegerType(),True),\n",
    "              StructField('Service time',IntegerType(),True),\n",
    "              StructField('Age',IntegerType(),True),\n",
    "              StructField('Work load Average/day ',DoubleType(),True),\n",
    "              StructField('Hit target',IntegerType(),True),\n",
    "              StructField('Disciplinary failure',StringType(),True),\n",
    "              StructField('Education',StringType(),True),\n",
    "              StructField('Son',IntegerType(),True),\n",
    "              StructField('Social drinker',StringType(),True),\n",
    "              StructField('Social smoker',StringType(),True),\n",
    "              StructField('Pet',IntegerType(),True),\n",
    "              StructField('Weight',IntegerType(),True),\n",
    "              StructField('Height',IntegerType(),True),\n",
    "              StructField('Body mass index',IntegerType(),True),\n",
    "              StructField('Absenteeism time in hours',IntegerType(),True)]\n",
    "final_struct = StructType(fields=data_schema)\n",
    "df = spark.read.csv('Absenteeism_at_work.csv', sep = ';', schema=final_struct, header = True)\n",
    "df.printSchema()"
   ]
  },
  {
   "cell_type": "code",
   "execution_count": null,
   "id": "e654bee4-d229-49fc-acbf-7d7d48b9072d",
   "metadata": {},
   "outputs": [],
   "source": [
    "df = spark.read.csv('Absenteeism_at_work.csv', sep = ';', inferSchema=True, header = True)\n",
    "df = df.drop('Weight', 'Height')\n",
    "print((df.count(), len(df.columns)))\n",
    "df.printSchema()"
   ]
  },
  {
   "cell_type": "code",
   "execution_count": null,
   "id": "9a246068-0483-480b-a749-a29c4dde0ccb",
   "metadata": {},
   "outputs": [],
   "source": [
    "from pyspark.sql.functions import mode, when\n",
    "mode = df.select(mode('Month of absence')).collect()[0][0]\n",
    "df_new = df.withColumn('Month of absence', when(df['Month of absence']=='0', mode).otherwise(df['Month of absence']))\n",
    "df = df_new\n",
    "df.tail(3)"
   ]
  },
  {
   "cell_type": "code",
   "execution_count": null,
   "id": "a5a65196-93ee-4f12-8350-60ab949bcb18",
   "metadata": {},
   "outputs": [],
   "source": [
    "df_new = df.withColumn('Pet', when(df['Pet'] > '0', 1).otherwise(df['Pet']))\n",
    "df = df_new\n",
    "df.select(df['Pet']).head(15)"
   ]
  },
  {
   "cell_type": "code",
   "execution_count": null,
   "id": "f9392a16-c195-486d-a758-1c612378062a",
   "metadata": {},
   "outputs": [],
   "source": [
    "df.groupby(\"Pet\").count().show()"
   ]
  },
  {
   "cell_type": "code",
   "execution_count": null,
   "id": "2e878325-afe1-47e0-bb43-8cc05361e63f",
   "metadata": {},
   "outputs": [],
   "source": [
    "mod_df = df.drop('ID', 'Reason for absence', 'Month of absence', 'Day of the week', 'Seasons')\n",
    "mod_df.printSchema()"
   ]
  },
  {
   "cell_type": "code",
   "execution_count": null,
   "id": "93cbf740-43fc-4cb9-932a-de0cf5b46323",
   "metadata": {},
   "outputs": [],
   "source": [
    "from pyspark.ml.feature import Bucketizer\n",
    "from pyspark.sql.functions import udf\n",
    "bucketizer = Bucketizer(splits=[0, 0.1, 8, 20, float('Inf') ],\n",
    "                        inputCol=\"Absenteeism time in hours\", outputCol=\"Absenteeism Range\")\n",
    "df_buck = bucketizer.setHandleInvalid(\"keep\").transform(mod_df)\n",
    "names = {0.0:\"Not Absent\", 1.0: \"(0, 8]\", 2.0:\"(8, 20]\", 3.0: \">20\"}\n",
    "udf_foo = udf(lambda x: names[x], StringType())\n",
    "df_buck = df_buck.withColumn(\"Absenteeism Range String\", udf_foo(\"Absenteeism Range\"))\n",
    "mod_df = df_buck\n",
    "mod_df.select(mod_df['Absenteeism Range String']).head(15)"
   ]
  },
  {
   "cell_type": "code",
   "execution_count": null,
   "id": "bfb0a7df-7ef5-4ad6-b7a7-8badbf74ae55",
   "metadata": {},
   "outputs": [],
   "source": [
    "mod_df.groupby(\"Absenteeism Range String\").count().show()"
   ]
  },
  {
   "cell_type": "code",
   "execution_count": null,
   "id": "34c89fed-b2a9-4d99-a047-c9279ae352a7",
   "metadata": {},
   "outputs": [],
   "source": [
    "import pandas as pd\n",
    "df1 = spark.read.csv('Absenteeism_at_work.csv', sep = ';', inferSchema=True, header = True)\n",
    "df2 = pd.read_excel('Absenteeism_at_work.xls')\n",
    "df2 = spark.createDataFrame(df2)\n",
    "df_concat = df1.union(df2)\n",
    "df_concat.describe().show()"
   ]
  },
  {
   "cell_type": "code",
   "execution_count": 142,
   "id": "95c0086f-7eb7-4b0f-8e79-87778ad9ba33",
   "metadata": {},
   "outputs": [],
   "source": [
    "from pyspark.ml.linalg import Vectors\n",
    "from pyspark.ml.feature import VectorAssembler\n",
    "assembler = VectorAssembler(\n",
    "    inputCols=['ID','Reason for absence','Month of absence','Day of the week','Seasons',\n",
    "               'Transportation expense','Distance from Residence to Work','Service time',\n",
    "               'Age', 'Work load Average/day ', 'Hit target', 'Disciplinary failure',\n",
    "               'Education', 'Son', 'Social drinker', 'Social smoker', 'Pet', 'Body mass index',],\n",
    "    outputCol=\"features\")\n",
    "output = assembler.transform(df)"
   ]
  },
  {
   "cell_type": "code",
   "execution_count": 143,
   "id": "24bfb860-0b60-467e-885b-67b8d50ff578",
   "metadata": {},
   "outputs": [
    {
     "name": "stdout",
     "output_type": "stream",
     "text": [
      "+--------------------+-------------------------+\n",
      "|            features|Absenteeism time in hours|\n",
      "+--------------------+-------------------------+\n",
      "|[11.0,26.0,7.0,3....|                        4|\n",
      "|[36.0,0.0,7.0,3.0...|                        0|\n",
      "|[3.0,23.0,7.0,4.0...|                        2|\n",
      "|[7.0,7.0,7.0,5.0,...|                        4|\n",
      "|[11.0,23.0,7.0,5....|                        2|\n",
      "|[3.0,23.0,7.0,6.0...|                        2|\n",
      "|[10.0,22.0,7.0,6....|                        8|\n",
      "|[20.0,23.0,7.0,6....|                        4|\n",
      "|[14.0,19.0,7.0,2....|                       40|\n",
      "|[1.0,22.0,7.0,2.0...|                        8|\n",
      "|[20.0,1.0,7.0,2.0...|                        8|\n",
      "|[20.0,1.0,7.0,3.0...|                        8|\n",
      "|[20.0,11.0,7.0,4....|                        8|\n",
      "|[3.0,11.0,7.0,4.0...|                        1|\n",
      "|[3.0,23.0,7.0,4.0...|                        4|\n",
      "|[24.0,14.0,7.0,6....|                        8|\n",
      "|[3.0,23.0,7.0,6.0...|                        2|\n",
      "|[3.0,21.0,7.0,2.0...|                        8|\n",
      "|[6.0,11.0,7.0,5.0...|                        8|\n",
      "|[33.0,23.0,8.0,4....|                        2|\n",
      "+--------------------+-------------------------+\n",
      "only showing top 20 rows\n",
      "\n"
     ]
    }
   ],
   "source": [
    "final_data = output.select(\"features\",'Absenteeism time in hours')\n",
    "final_data.show()"
   ]
  },
  {
   "cell_type": "code",
   "execution_count": null,
   "id": "0458f008-063a-49f4-8a21-d51611137ed5",
   "metadata": {},
   "outputs": [],
   "source": [
    "from pyspark.ml.feature import ChiSqSelector\n",
    "selector = ChiSqSelector(numTopFeatures=10, featuresCol=\"features\",\n",
    "                         outputCol=\"selectedFeatures\", labelCol=\"Absenteeism time in hours\")\n",
    "result = selector.fit(final_data).transform(final_data)\n",
    "print(\"ChiSqSelector output with top %d features selected\" % selector.getNumTopFeatures())\n",
    "result.show()"
   ]
  },
  {
   "cell_type": "code",
   "execution_count": 145,
   "id": "1fd7ff9a-eba0-4979-8713-6153361db42c",
   "metadata": {},
   "outputs": [],
   "source": [
    "assembler1 = VectorAssembler(\n",
    "    inputCols=['Transportation expense','Distance from Residence to Work','Service time',\n",
    "               'Age', 'Work load Average/day ', 'Hit target', 'Disciplinary failure',\n",
    "               'Education', 'Son', 'Social drinker', 'Social smoker', 'Pet', 'Body mass index'],\n",
    "    outputCol=\"features\")\n",
    "output1 = assembler1.transform(mod_df)"
   ]
  },
  {
   "cell_type": "code",
   "execution_count": null,
   "id": "12b4db02-98b3-40f0-90bd-2d3d8f039f66",
   "metadata": {},
   "outputs": [],
   "source": [
    "final_data1 = output1.select(\"features\",'Absenteeism Range', 'Absenteeism Range String')\n",
    "final_data1.show()"
   ]
  },
  {
   "cell_type": "code",
   "execution_count": null,
   "id": "3ff6dd9f-2502-47ed-bb49-f259ebe1cdfe",
   "metadata": {},
   "outputs": [],
   "source": [
    "selector1 = ChiSqSelector(numTopFeatures=10, featuresCol=\"features\",\n",
    "                         outputCol=\"selectedFeatures\", labelCol=\"Absenteeism Range\")\n",
    "result = selector1.fit(final_data1).transform(final_data1)\n",
    "print(\"ChiSqSelector output with top %d features selected\" % selector.getNumTopFeatures())\n",
    "result.show()"
   ]
  },
  {
   "cell_type": "code",
   "execution_count": null,
   "id": "0a3dc9f9-91ba-4406-aacf-d59f4d288a02",
   "metadata": {},
   "outputs": [],
   "source": [
    "from pyspark.ml.feature import StandardScaler\n",
    "assembler2 = VectorAssembler(\n",
    "    inputCols=['ID','Reason for absence','Month of absence','Day of the week','Seasons',\n",
    "               'Transportation expense','Distance from Residence to Work','Service time',\n",
    "               'Age', 'Work load Average/day ', 'Hit target', 'Disciplinary failure',\n",
    "               'Education', 'Son', 'Social drinker', 'Social smoker', 'Pet', 'Body mass index',\n",
    "               'Absenteeism time in hours'],\n",
    "    outputCol=\"features\")\n",
    "output2 = assembler2.transform(df)\n",
    "scaler = StandardScaler(inputCol=\"features\", outputCol=\"scaledFeatures\", withStd=True, withMean=False)\n",
    "scalerModel = scaler.fit(output2)\n",
    "scaledData = scalerModel.transform(output2)\n",
    "scaledData.select(scaledData['scaledFeatures']).show()"
   ]
  },
  {
   "cell_type": "code",
   "execution_count": 155,
   "id": "12241b7f-577f-48de-bfad-92c685ebd984",
   "metadata": {},
   "outputs": [],
   "source": [
    "vec = \"scaledFeatures\"\n",
    "corr_matrix1 = Correlation.corr(scaledData, vec)\n",
    "cm1 = corr_matrix1.collect()[0]['pearson({})'.format(vec)].values"
   ]
  },
  {
   "cell_type": "code",
   "execution_count": null,
   "id": "9936c21f-7e43-48a2-920d-d0b1111c0002",
   "metadata": {},
   "outputs": [],
   "source": [
    "cor = []\n",
    "for i in range(len(cm1)): \n",
    "    if i%21 == 20:\n",
    "        cor.append(cm1[i])\n",
    "cor"
   ]
  },
  {
   "cell_type": "markdown",
   "id": "839794a5-91b7-4bf3-85bf-1a718ac2a52c",
   "metadata": {},
   "source": [
    "#### Modelling"
   ]
  },
  {
   "cell_type": "markdown",
   "id": "92bd1160-10ba-4c44-88f2-ae04fa39cbea",
   "metadata": {},
   "source": [
    "## Clustering"
   ]
  },
  {
   "cell_type": "code",
   "execution_count": 158,
   "id": "14fc20e4-e9c4-432c-a5ea-934498bb84db",
   "metadata": {},
   "outputs": [],
   "source": [
    "from pyspark.ml.clustering import BisectingKMeans\n",
    "from pyspark.ml.evaluation import ClusteringEvaluator\n",
    "\n",
    "silhouette_scores=[]\n",
    "evaluator = ClusteringEvaluator(featuresCol='features', metricName='silhouette')\n",
    "for K in range(2,11):\n",
    "    BKMeans_=BisectingKMeans(featuresCol='features', k=K, minDivisibleClusterSize = 1)\n",
    "    BKMeans_fit=BKMeans_.fit(output2)\n",
    "    BKMeans_transform=BKMeans_fit.transform(output2) \n",
    "    evaluation_score=evaluator.evaluate(BKMeans_transform)\n",
    "    silhouette_scores.append(evaluation_score)"
   ]
  },
  {
   "cell_type": "code",
   "execution_count": 159,
   "id": "604d2260-2332-48bb-a591-0aac2438ff75",
   "metadata": {},
   "outputs": [
    {
     "data": {
      "text/plain": [
       "[0.5601345373509408,\n",
       " 0.44917277743330825,\n",
       " 0.43915730922822616,\n",
       " 0.38386161393052526,\n",
       " 0.456503428710966,\n",
       " 0.4846516543659803,\n",
       " 0.4917176441237848,\n",
       " 0.4053011001070508,\n",
       " 0.3767980997159723]"
      ]
     },
     "execution_count": 159,
     "metadata": {},
     "output_type": "execute_result"
    }
   ],
   "source": [
    "silhouette_scores"
   ]
  },
  {
   "cell_type": "code",
   "execution_count": 160,
   "id": "c51f920a-9809-469d-bd31-e55d02154182",
   "metadata": {},
   "outputs": [
    {
     "data": {
      "text/plain": [
       "Text(0, 0.5, 'Silhouette Score')"
      ]
     },
     "execution_count": 160,
     "metadata": {},
     "output_type": "execute_result"
    },
    {
     "data": {
      "image/png": "[encoded data removed]",
      "text/plain": [
       "<Figure size 1000x800 with 1 Axes>"
      ]
     },
     "metadata": {},
     "output_type": "display_data"
    }
   ],
   "source": [
    "import matplotlib.pyplot as plt\n",
    "fig, ax = plt.subplots(1,1, figsize =(10,8))\n",
    "ax.plot(range(2,11),silhouette_scores)\n",
    "ax.set_xlabel('Number of Clusters')\n",
    "ax.set_ylabel('Silhouette Score')"
   ]
  },
  {
   "cell_type": "code",
   "execution_count": 162,
   "id": "7a066ea3-3566-4894-add4-a80d833a80b9",
   "metadata": {},
   "outputs": [],
   "source": [
    "BKMeans_=BisectingKMeans(featuresCol='features', k=8) \n",
    "BKMeans_Model=BKMeans_.fit(output2)\n",
    "BKMeans_transform=BKMeans_Model.transform(output2)"
   ]
  },
  {
   "cell_type": "code",
   "execution_count": 185,
   "id": "8a6bf59e-1852-4647-8f1d-65bdf2786fc1",
   "metadata": {},
   "outputs": [
    {
     "name": "stdout",
     "output_type": "stream",
     "text": [
      "+----------+-----+\n",
      "|prediction|count|\n",
      "+----------+-----+\n",
      "|         1|   20|\n",
      "|         6|   96|\n",
      "|         3|   66|\n",
      "|         5|  171|\n",
      "|         4|   87|\n",
      "|         7|   63|\n",
      "|         2|  165|\n",
      "|         0|   72|\n",
      "+----------+-----+\n",
      "\n"
     ]
    }
   ],
   "source": [
    "BKMeans_transform.groupby(\"prediction\").count().show()"
   ]
  },
  {
   "cell_type": "code",
   "execution_count": 197,
   "id": "a8689556-71f2-410d-97c7-e5cdaa70213a",
   "metadata": {},
   "outputs": [
    {
     "name": "stdout",
     "output_type": "stream",
     "text": [
      "+---------------------------+------------------------------------+-----------------+--------+---------------------------+\n",
      "|avg(Transportation expense)|avg(Distance from Residence to Work)|avg(Service time)|avg(Age)|avg(Work load Average/day )|\n",
      "+---------------------------+------------------------------------+-----------------+--------+---------------------------+\n",
      "|                      118.0|                                10.0|             10.0|    37.0|          310.2443846153846|\n",
      "|                      118.0|                                13.0|             18.0|    50.0|                    351.752|\n",
      "+---------------------------+------------------------------------+-----------------+--------+---------------------------+\n",
      "\n",
      "+-----------------+--------+--------------------+------------------------------+\n",
      "|  avg(Hit target)|avg(Son)|avg(Body mass index)|avg(Absenteeism time in hours)|\n",
      "+-----------------+--------+--------------------+------------------------------+\n",
      "|95.38461538461539|     0.0|                28.0|                           4.0|\n",
      "|             93.0|     1.0|                31.0|                          17.0|\n",
      "+-----------------+--------+--------------------+------------------------------+\n",
      "\n"
     ]
    }
   ],
   "source": [
    "cluster1 = BKMeans_transform.filter(BKMeans_transform['prediction'] == 1)\n",
    "worker = cluster1.groupby(\"ID\").mean().select(['avg(Transportation expense)','avg(Distance from Residence to Work)',\n",
    "                                      'avg(Service time)','avg(Age)', 'avg(Work load Average/day )', \n",
    "                                      'avg(Hit target)', 'avg(Son)', 'avg(Body mass index)',\n",
    "                                      'avg(Absenteeism time in hours)'])\n",
    "worker.select(['avg(Transportation expense)','avg(Distance from Residence to Work)',\n",
    "                                      'avg(Service time)','avg(Age)', 'avg(Work load Average/day )']).show()\n",
    "worker.select(['avg(Hit target)', 'avg(Son)', 'avg(Body mass index)',\n",
    "                                      'avg(Absenteeism time in hours)']).show()"
   ]
  },
  {
   "cell_type": "markdown",
   "id": "467c5153-1974-41ef-b43d-5ba2f494dc6f",
   "metadata": {},
   "source": [
    "## DT Regression"
   ]
  },
  {
   "cell_type": "code",
   "execution_count": 166,
   "id": "9097068d-f637-4aa8-944d-bcb236f88446",
   "metadata": {},
   "outputs": [],
   "source": [
    "from pyspark.ml.regression import DecisionTreeRegressor\n",
    "train_data,test_data = final_data.randomSplit([0.7,0.3])\n",
    "dt = DecisionTreeRegressor(featuresCol=\"features\", labelCol=\"Absenteeism time in hours\")\n",
    "dt_model = dt.fit(train_data)"
   ]
  },
  {
   "cell_type": "code",
   "execution_count": 171,
   "id": "34a7eb12-cec4-4475-a026-8c71a1c96e65",
   "metadata": {},
   "outputs": [
    {
     "name": "stdout",
     "output_type": "stream",
     "text": [
      "Feature Importances:\n",
      "Feature 1: 0.0036755328892827746\n",
      "Feature 2: 0.5984887241621167\n",
      "Feature 3: 0.04582862738210971\n",
      "Feature 4: 0.10236904126859285\n",
      "Feature 5: 0.0007625943053254186\n",
      "Feature 6: 0.0009252284488792983\n",
      "Feature 7: 0.002651819703703617\n",
      "Feature 8: 0.0\n",
      "Feature 9: 0.11544278335776\n",
      "Feature 10: 0.0\n",
      "Feature 11: 0.0009072084570098673\n",
      "Feature 12: 0.0\n",
      "Feature 13: 0.0\n",
      "Feature 14: 0.0012957793308573167\n",
      "Feature 15: 0.12488804463411136\n",
      "Feature 16: 0.0\n",
      "Feature 17: 0.0\n",
      "Feature 18: 0.002764616060251\n",
      "Number of Nodes: 39\n"
     ]
    }
   ],
   "source": [
    "print(\"Feature Importances:\")\n",
    "feature_importances = dt_model.featureImportances\n",
    "for i, imp in enumerate(feature_importances.toArray()):\n",
    "     print(f\"Feature {i+1}: {imp}\")\n",
    "print(\"Number of Nodes:\", dt_model.numNodes)"
   ]
  },
  {
   "cell_type": "code",
   "execution_count": 177,
   "id": "c9c8f711-b0cc-49dd-bdbf-49247272aae7",
   "metadata": {},
   "outputs": [
    {
     "name": "stdout",
     "output_type": "stream",
     "text": [
      "Root Mean Squared Error (RMSE) on test data: 17.597218384236047\n",
      "R-squared (R²) on test data: -0.5102049903624368\n"
     ]
    }
   ],
   "source": [
    "from pyspark.ml.evaluation import RegressionEvaluator\n",
    "predictions = dt_model.transform(test_data)\n",
    "evaluator = RegressionEvaluator(labelCol=\"Absenteeism time in hours\", predictionCol=\"prediction\", metricName=\"rmse\")\n",
    "rmse = evaluator.evaluate(predictions)\n",
    "print(\"Root Mean Squared Error (RMSE) on test data:\", rmse)\n",
    "\n",
    "r2_evaluator = RegressionEvaluator(labelCol=\"Absenteeism time in hours\", predictionCol=\"prediction\", metricName=\"r2\")\n",
    "r2 = r2_evaluator.evaluate(predictions)\n",
    "print(\"R-squared (R²) on test data:\", r2)"
   ]
  },
  {
   "cell_type": "code",
   "execution_count": 175,
   "id": "aa1a7ded-cac5-46b8-88ab-9af446528c1a",
   "metadata": {},
   "outputs": [
    {
     "ename": "AttributeError",
     "evalue": "'DecisionTreeRegressionModel' object has no attribute 'evaluate'",
     "output_type": "error",
     "traceback": [
      "\u001b[0;31m---------------------------------------------------------------------------\u001b[0m",
      "\u001b[0;31mAttributeError\u001b[0m                            Traceback (most recent call last)",
      "Cell \u001b[0;32mIn[175], line 1\u001b[0m\n\u001b[0;32m----> 1\u001b[0m test_results \u001b[38;5;241m=\u001b[39m dt_model\u001b[38;5;241m.\u001b[39mevaluate(test_data)\n",
      "\u001b[0;31mAttributeError\u001b[0m: 'DecisionTreeRegressionModel' object has no attribute 'evaluate'"
     ]
    }
   ],
   "source": []
  },
  {
   "cell_type": "markdown",
   "id": "cab93bd4-8298-423b-a220-69d73f8309f4",
   "metadata": {},
   "source": [
    "## RF Classifier"
   ]
  },
  {
   "cell_type": "code",
   "execution_count": 168,
   "id": "9abbb355-107e-4978-8b09-9ce4ab0b49c8",
   "metadata": {},
   "outputs": [],
   "source": [
    "from pyspark.ml.classification import RandomForestClassifier\n",
    "train_data1,test_data1 = final_data1.randomSplit([0.7,0.3])\n",
    "rf = RandomForestClassifier(featuresCol=\"features\", labelCol=\"Absenteeism Range\")\n",
    "rf_model = rf.fit(train_data1)"
   ]
  },
  {
   "cell_type": "code",
   "execution_count": 169,
   "id": "22fdf515-3bb6-4f83-8c21-766057556bba",
   "metadata": {},
   "outputs": [
    {
     "name": "stdout",
     "output_type": "stream",
     "text": [
      "Feature Importances:\n",
      "Feature 1: 0.18219175317741965\n",
      "Feature 2: 0.04791049553312474\n",
      "Feature 3: 0.09279485030229565\n",
      "Feature 4: 0.07373920613670912\n",
      "Feature 5: 0.05433807710891458\n",
      "Feature 6: 0.03971414824393991\n",
      "Feature 7: 0.3763860935539912\n",
      "Feature 8: 0.010121176982868553\n",
      "Feature 9: 0.05941047677353136\n",
      "Feature 10: 6.307561731109333e-05\n",
      "Feature 11: 0.00527034024379707\n",
      "Feature 12: 0.0074829157234656\n",
      "Feature 13: 0.05057739060263137\n",
      "Number of Trees: 20\n",
      "Total Number of Nodes: 494\n"
     ]
    }
   ],
   "source": [
    "print(\"Feature Importances:\")\n",
    "feature_importances = rf_model.featureImportances\n",
    "for i, imp in enumerate(feature_importances.toArray()):\n",
    "   print(f\"Feature {i+1}: {imp}\")\n",
    "print(\"Number of Trees:\", rf_model.getNumTrees)\n",
    "print(\"Total Number of Nodes:\", rf_model.totalNumNodes)"
   ]
  },
  {
   "cell_type": "code",
   "execution_count": 170,
   "id": "ca26d12a-066f-4389-b63c-cd0e6a97e3a6",
   "metadata": {},
   "outputs": [
    {
     "name": "stdout",
     "output_type": "stream",
     "text": [
      "A random forest ensemble has an accuracy of: 71.14%\n"
     ]
    }
   ],
   "source": [
    "from pyspark.ml.evaluation import MulticlassClassificationEvaluator\n",
    "rf_predictions = rf_model.transform(test_data1)\n",
    "acc_evaluator = MulticlassClassificationEvaluator(labelCol=\"Absenteeism Range\", \n",
    "                                                  predictionCol=\"prediction\", metricName=\"accuracy\")\n",
    "rf_acc = acc_evaluator.evaluate(rf_predictions)\n",
    "print('A random forest ensemble has an accuracy of: {0:2.2f}%'.format(rf_acc*100))"
   ]
  },
  {
   "cell_type": "markdown",
   "id": "e342b827-24e9-40b1-b2bd-6e8701ca4ebc",
   "metadata": {},
   "source": [
    "## iteration"
   ]
  },
  {
   "cell_type": "code",
   "execution_count": 179,
   "id": "9aa15bc5-7782-4331-9503-8a192a2ca068",
   "metadata": {},
   "outputs": [
    {
     "name": "stderr",
     "output_type": "stream",
     "text": [
      "24/05/24 03:49:07 WARN Instrumentation: [be8a3ef8] regParam is zero, which might cause numerical instability and overfitting.\n"
     ]
    },
    {
     "name": "stdout",
     "output_type": "stream",
     "text": [
      "Root Mean Squared Error (RMSE) on test data: 13.427180880102743\n",
      "R-squared (R²) on test data: 0.12073956255146956\n"
     ]
    }
   ],
   "source": [
    "from pyspark.ml.regression import LinearRegression\n",
    "lr = LinearRegression(featuresCol=\"features\", labelCol=\"Absenteeism time in hours\")\n",
    "lr_model = lr.fit(train_data)\n",
    "predictions = lr_model.transform(test_data)\n",
    "\n",
    "evaluator = RegressionEvaluator(labelCol=\"Absenteeism time in hours\", predictionCol=\"prediction\", metricName=\"rmse\")\n",
    "rmse = evaluator.evaluate(predictions)\n",
    "print(\"Root Mean Squared Error (RMSE) on test data:\", rmse)\n",
    "\n",
    "r2_evaluator = RegressionEvaluator(labelCol=\"Absenteeism time in hours\", predictionCol=\"prediction\", metricName=\"r2\")\n",
    "r2 = r2_evaluator.evaluate(predictions)\n",
    "print(\"R-squared (R²) on test data:\", r2)"
   ]
  },
  {
   "cell_type": "code",
   "execution_count": 182,
   "id": "545c93dc-007e-43af-8e7a-8ce036d33e7e",
   "metadata": {},
   "outputs": [
    {
     "name": "stdout",
     "output_type": "stream",
     "text": [
      "An ensemble using DecisionTreeClassifier has an accuracy of: 59.70%\n"
     ]
    }
   ],
   "source": [
    "from pyspark.ml.classification import DecisionTreeClassifier\n",
    "dtc = DecisionTreeClassifier(labelCol='Absenteeism Range',featuresCol='features')\n",
    "dtc_model = dtc.fit(train_data1)\n",
    "dtc_predictions = dtc_model.transform(test_data1)\n",
    "dtc_acc = acc_evaluator.evaluate(dtc_predictions)\n",
    "print('An ensemble using DecisionTreeClassifier has an accuracy of: {0:2.2f}%'.format(dtc_acc*100))"
   ]
  },
  {
   "cell_type": "code",
   "execution_count": null,
   "id": "c634513e-39e1-4d08-b0f3-10d6928d4a4c",
   "metadata": {},
   "outputs": [],
   "source": []
  }
 ],
 "metadata": {
  "kernelspec": {
   "display_name": "Python 3 (ipykernel)",
   "language": "python",
   "name": "python3"
  },
  "language_info": {
   "codemirror_mode": {
    "name": "ipython",
    "version": 3
   },
   "file_extension": ".py",
   "mimetype": "text/x-python",
   "name": "python",
   "nbconvert_exporter": "python",
   "pygments_lexer": "ipython3",
   "version": "3.11.7"
  }
 },
 "nbformat": 4,
 "nbformat_minor": 5
}
